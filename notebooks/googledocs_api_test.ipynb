{
 "cells": [
  {
   "cell_type": "code",
   "execution_count": null,
   "id": "91940c3d-b671-4633-881f-28cc913b78cc",
   "metadata": {},
   "outputs": [
    {
     "name": "stdout",
     "output_type": "stream",
     "text": [
      "Hi from the notes2flash_test1\n",
      "\n"
     ]
    }
   ],
   "source": [
    "from google.oauth2 import service_account\n",
    "from googleapiclient.discovery import build\n",
    "\n",
    "# Path to the service account key file\n",
    "SERVICE_ACCOUNT_FILE = '../service_account.json'\n",
    "\n",
    "# Define the scope\n",
    "SCOPES = ['https://www.googleapis.com/auth/documents.readonly']\n",
    "\n",
    "# Create credentials object\n",
    "credentials = service_account.Credentials.from_service_account_file(\n",
    "    SERVICE_ACCOUNT_FILE, scopes=SCOPES)\n",
    "\n",
    "# Build the Google Docs API service\n",
    "service = build('docs', 'v1', credentials=credentials)\n",
    "\n",
    "def fetch_google_doc_content(doc_id):\n",
    "    \"\"\"Fetches the content of a Google Doc using its ID.\"\"\"\n",
    "    doc = service.documents().get(documentId=doc_id).execute()\n",
    "    return doc\n",
    "\n",
    "def extract_text_from_doc(doc):\n",
    "    \"\"\"Extracts text from a Google Docs JSON response.\"\"\"\n",
    "    content = doc.get('body', {}).get('content', [])\n",
    "    text = []\n",
    "    \n",
    "    for element in content:\n",
    "        paragraph = element.get('paragraph', {})\n",
    "        elements = paragraph.get('elements', [])\n",
    "        for elem in elements:\n",
    "            text_run = elem.get('textRun', {})\n",
    "            text_content = text_run.get('content', '')\n",
    "            text.append(text_content)\n",
    "    \n",
    "    return ''.join(text)\n",
    "\n",
    "# Example usage\n",
    "if __name__ == '__main__':\n",
    "    DOCUMENT_ID = '1TE2tqPhoUYYpx8xA6QPz3B1Ygo1xCex1gtJMa7qfGi0'\n",
    "    doc_content = fetch_google_doc_content(DOCUMENT_ID)\n",
    "    doc_text = extract_text_from_doc(doc_content)\n",
    "    print(doc_text)"
   ]
  },
  {
   "cell_type": "code",
   "execution_count": null,
   "id": "800a7024-08f9-4f2e-89ee-7f5ecd415656",
   "metadata": {},
   "outputs": [],
   "source": []
  },
  {
   "cell_type": "code",
   "execution_count": null,
   "id": "e9613d01-a0b0-4a17-9fe0-57c2043d8c49",
   "metadata": {},
   "outputs": [],
   "source": []
  },
  {
   "cell_type": "code",
   "execution_count": null,
   "id": "503590ac-9d70-4e3c-95bf-4abca0e3dced",
   "metadata": {},
   "outputs": [],
   "source": []
  },
  {
   "cell_type": "code",
   "execution_count": null,
   "id": "0feaf5d9-ca89-4cc9-a126-0298cc0b5c16",
   "metadata": {},
   "outputs": [],
   "source": []
  },
  {
   "cell_type": "code",
   "execution_count": null,
   "id": "f63063d6-c8df-4a06-b5c2-224c9f6b3d3a",
   "metadata": {},
   "outputs": [],
   "source": []
  }
 ],
 "metadata": {
  "kernelspec": {
   "display_name": "Python 3 (ipykernel)",
   "language": "python",
   "name": "python3"
  },
  "language_info": {
   "codemirror_mode": {
    "name": "ipython",
    "version": 3
   },
   "file_extension": ".py",
   "mimetype": "text/x-python",
   "name": "python",
   "nbconvert_exporter": "python",
   "pygments_lexer": "ipython3",
   "version": "3.11.6"
  }
 },
 "nbformat": 4,
 "nbformat_minor": 5
}
